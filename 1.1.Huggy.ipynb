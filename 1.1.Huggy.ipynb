{
  "cells": [
    {
      "cell_type": "markdown",
      "metadata": {
        "id": "2D3NL_e4crQv"
      },
      "source": [
        "# Bonus Unit 1: Let's train Huggy the Dog 🐶 to fetch a stick"
      ]
    },
    {
      "cell_type": "markdown",
      "source": [
        "<img src=\"https://huggingface.co/datasets/huggingface-deep-rl-course/course-images/resolve/main/en/unit2/thumbnail.png\" alt=\"Bonus Unit 1Thumbnail\">\n",
        "\n",
        "In this notebook, we'll reinforce what we learned in the first Unit by **teaching Huggy the Dog to fetch the stick and then play with it directly in your browser**\n",
        "\n",
        "⬇️ Here is an example of what **you will achieve at the end of the unit.** ⬇️ (launch ▶ to see)"
      ],
      "metadata": {
        "id": "FMYrDriDujzX"
      }
    },
    {
      "cell_type": "code",
      "source": [
        "%%html\n",
        "<video controls autoplay><source src=\"https://huggingface.co/datasets/huggingface-deep-rl-course/course-images/resolve/main/en/notebooks/unit-bonus1/huggy.mp4\" type=\"video/mp4\"></video>"
      ],
      "metadata": {
        "id": "PnVhs1yYNyUF"
      },
      "execution_count": null,
      "outputs": []
    },
    {
      "cell_type": "markdown",
      "source": [
        "### The environment 🎮\n",
        "\n",
        "- Huggy the Dog, an environment created by [Thomas Simonini](https://twitter.com/ThomasSimonini) based on [Puppo The Corgi](https://blog.unity.com/technology/puppo-the-corgi-cuteness-overload-with-the-unity-ml-agents-toolkit)\n",
        "\n",
        "### The library used 📚\n",
        "\n",
        "- [MLAgents](https://github.com/Unity-Technologies/ml-agents)"
      ],
      "metadata": {
        "id": "x7oR6R-ZIbeS"
      }
    },
    {
      "cell_type": "markdown",
      "source": [
        "We're constantly trying to improve our tutorials, so **if you find some issues in this notebook**, please [open an issue on the Github Repo](https://github.com/huggingface/deep-rl-class/issues)."
      ],
      "metadata": {
        "id": "60yACvZwO0Cy"
      }
    },
    {
      "cell_type": "markdown",
      "source": [
        "## Objectives of this notebook 🏆\n",
        "\n",
        "At the end of the notebook, you will:\n",
        "\n",
        "- Understand **the state space, action space and reward function used to train Huggy**.\n",
        "- **Train your own Huggy** to fetch the stick.\n",
        "- Be able to play **with your trained Huggy directly in your browser**.\n",
        "\n",
        "\n"
      ],
      "metadata": {
        "id": "Oks-ETYdO2Dc"
      }
    },
    {
      "cell_type": "markdown",
      "source": [
        "## This notebook is from Deep Reinforcement Learning Course\n",
        "<img src=\"https://huggingface.co/datasets/huggingface-deep-rl-course/course-images/resolve/main/en/notebooks/deep-rl-course-illustration.jpg\" alt=\"Deep RL Course illustration\"/>"
      ],
      "metadata": {
        "id": "mUlVrqnBv2o1"
      }
    },
    {
      "cell_type": "markdown",
      "source": [
        "In this free course, you will:\n",
        "\n",
        "- 📖 Study Deep Reinforcement Learning in **theory and practice**.\n",
        "- 🧑‍💻 Learn to **use famous Deep RL libraries** such as Stable Baselines3, RL Baselines3 Zoo, CleanRL and Sample Factory 2.0.\n",
        "- 🤖 Train **agents in unique environments**\n",
        "\n",
        "And more check 📚 the syllabus 👉 https://simoninithomas.github.io/deep-rl-course\n",
        "\n",
        "Don’t forget to **<a href=\"http://eepurl.com/ic5ZUD\">sign up to the course</a>** (we are collecting your email to be able to **send you the links when each Unit is published and give you information about the challenges and updates).**\n",
        "\n",
        "\n",
        "The best way to keep in touch is to join our discord server to exchange with the community and with us 👉🏻 https://discord.gg/ydHrjt3WP5"
      ],
      "metadata": {
        "id": "pAMjaQpHwB_s"
      }
    },
    {
      "cell_type": "markdown",
      "source": [
        "## Prerequisites 🏗️\n",
        "\n",
        "Before diving into the notebook, you need to:\n",
        "\n",
        "🔲 📚 **Develop an understanding of the foundations of Reinforcement learning** (MC, TD, Rewards hypothesis...) by doing Unit 1\n",
        "\n",
        "🔲 📚 **Read the introduction to Huggy** by doing Bonus Unit 1"
      ],
      "metadata": {
        "id": "6r7Hl0uywFSO"
      }
    },
    {
      "cell_type": "markdown",
      "source": [
        "## Set the GPU 💪\n",
        "- To **accelerate the agent's training, we'll use a GPU**. To do that, go to `Runtime > Change Runtime type`\n",
        "\n",
        "<img src=\"https://huggingface.co/datasets/huggingface-deep-rl-course/course-images/resolve/main/en/notebooks/gpu-step1.jpg\" alt=\"GPU Step 1\">"
      ],
      "metadata": {
        "id": "DssdIjk_8vZE"
      }
    },
    {
      "cell_type": "markdown",
      "source": [
        "- `Hardware Accelerator > GPU`\n",
        "\n",
        "<img src=\"https://huggingface.co/datasets/huggingface-deep-rl-course/course-images/resolve/main/en/notebooks/gpu-step2.jpg\" alt=\"GPU Step 2\">"
      ],
      "metadata": {
        "id": "sTfCXHy68xBv"
      }
    },
    {
      "cell_type": "markdown",
      "metadata": {
        "id": "an3ByrXYQ4iK"
      },
      "source": [
        "## Clone the repository and install the dependencies 🔽\n",
        "\n",
        "- We need to clone the repository, that contains **ML-Agents.**"
      ]
    },
    {
      "cell_type": "code",
      "execution_count": 1,
      "metadata": {
        "id": "6WNoL04M7rTa"
      },
      "outputs": [],
      "source": [
        "%%capture\n",
        "# Clone the repository (can take 3min)\n",
        "!git clone --depth 1 https://github.com/Unity-Technologies/ml-agents"
      ]
    },
    {
      "cell_type": "code",
      "execution_count": 2,
      "metadata": {
        "id": "d8wmVcMk7xKo"
      },
      "outputs": [],
      "source": [
        "%%capture\n",
        "# Go inside the repository and install the package (can take 3min)\n",
        "%cd ml-agents\n",
        "!pip3 install -e ./ml-agents-envs\n",
        "!pip3 install -e ./ml-agents"
      ]
    },
    {
      "cell_type": "markdown",
      "metadata": {
        "id": "HRY5ufKUKfhI"
      },
      "source": [
        "## Download and move the environment zip file in `./trained-envs-executables/linux/`\n",
        "\n",
        "- Our environment executable is in a zip file.\n",
        "- We need to download it and place it to `./trained-envs-executables/linux/`"
      ]
    },
    {
      "cell_type": "code",
      "execution_count": 3,
      "metadata": {
        "id": "C9Ls6_6eOKiA"
      },
      "outputs": [],
      "source": [
        "!mkdir ./trained-envs-executables\n",
        "!mkdir ./trained-envs-executables/linux"
      ]
    },
    {
      "cell_type": "markdown",
      "source": [
        "We downloaded the file Huggy.zip from https://github.com/huggingface/Huggy using `wget`"
      ],
      "metadata": {
        "id": "IHh_LXsRrrbM"
      }
    },
    {
      "cell_type": "code",
      "source": [
        "!wget \"https://github.com/huggingface/Huggy/raw/main/Huggy.zip\" -O ./trained-envs-executables/linux/Huggy.zip"
      ],
      "metadata": {
        "id": "8xNAD1tRpy0_",
        "colab": {
          "base_uri": "https://localhost:8080/"
        },
        "outputId": "22136609-6273-4b49-bc5d-7b0e8a8a5a72"
      },
      "execution_count": 4,
      "outputs": [
        {
          "output_type": "stream",
          "name": "stdout",
          "text": [
            "--2024-11-08 21:53:44--  https://github.com/huggingface/Huggy/raw/main/Huggy.zip\n",
            "Resolving github.com (github.com)... 140.82.112.4\n",
            "Connecting to github.com (github.com)|140.82.112.4|:443... connected.\n",
            "HTTP request sent, awaiting response... 302 Found\n",
            "Location: https://media.githubusercontent.com/media/huggingface/Huggy/main/Huggy.zip [following]\n",
            "--2024-11-08 21:53:44--  https://media.githubusercontent.com/media/huggingface/Huggy/main/Huggy.zip\n",
            "Resolving media.githubusercontent.com (media.githubusercontent.com)... 185.199.108.133, 185.199.109.133, 185.199.111.133, ...\n",
            "Connecting to media.githubusercontent.com (media.githubusercontent.com)|185.199.108.133|:443... connected.\n",
            "HTTP request sent, awaiting response... 200 OK\n",
            "Length: 39214997 (37M) [application/zip]\n",
            "Saving to: ‘./trained-envs-executables/linux/Huggy.zip’\n",
            "\n",
            "./trained-envs-exec 100%[===================>]  37.40M   132MB/s    in 0.3s    \n",
            "\n",
            "2024-11-08 21:53:46 (132 MB/s) - ‘./trained-envs-executables/linux/Huggy.zip’ saved [39214997/39214997]\n",
            "\n"
          ]
        }
      ]
    },
    {
      "cell_type": "code",
      "execution_count": 5,
      "metadata": {
        "id": "8FPx0an9IAwO"
      },
      "outputs": [],
      "source": [
        "%%capture\n",
        "!unzip -d ./trained-envs-executables/linux/ ./trained-envs-executables/linux/Huggy.zip"
      ]
    },
    {
      "cell_type": "markdown",
      "metadata": {
        "id": "nyumV5XfPKzu"
      },
      "source": [
        "Make sure your file is accessible"
      ]
    },
    {
      "cell_type": "code",
      "execution_count": 6,
      "metadata": {
        "id": "EdFsLJ11JvQf"
      },
      "outputs": [],
      "source": [
        "!chmod -R 755 ./trained-envs-executables/linux/Huggy"
      ]
    },
    {
      "cell_type": "markdown",
      "source": [
        "## Let's recap how this environment works\n",
        "\n",
        "### The State Space: what Huggy \"perceives.\"\n",
        "\n",
        "Huggy doesn't \"see\" his environment. Instead, we provide him information about the environment:\n",
        "\n",
        "- The target (stick) position\n",
        "- The relative position between himself and the target\n",
        "- The orientation of his legs.\n",
        "\n",
        "Given all this information, Huggy **can decide which action to take next to fulfill his goal**.\n",
        "\n",
        "<img src=\"https://huggingface.co/datasets/huggingface-deep-rl-course/course-images/resolve/main/en/notebooks/unit-bonus1/huggy.jpg\" alt=\"Huggy\" width=\"100%\">\n",
        "\n",
        "\n",
        "### The Action Space: what moves Huggy can do\n",
        "<img src=\"https://huggingface.co/datasets/huggingface-deep-rl-course/course-images/resolve/main/en/notebooks/unit-bonus1/huggy-action.jpg\" alt=\"Huggy action\" width=\"100%\">\n",
        "\n",
        "**Joint motors drive huggy legs**. It means that to get the target, Huggy needs to **learn to rotate the joint motors of each of his legs correctly so he can move**.\n",
        "\n",
        "### The Reward Function\n",
        "\n",
        "The reward function is designed so that **Huggy will fulfill his goal** : fetch the stick.\n",
        "\n",
        "Remember that one of the foundations of Reinforcement Learning is the *reward hypothesis*: a goal can be described as the **maximization of the expected cumulative reward**.\n",
        "\n",
        "Here, our goal is that Huggy **goes towards the stick but without spinning too much**. Hence, our reward function must translate this goal.\n",
        "\n",
        "Our reward function:\n",
        "\n",
        "<img src=\"https://huggingface.co/datasets/huggingface-deep-rl-course/course-images/resolve/main/en/notebooks/unit-bonus1/reward.jpg\" alt=\"Huggy reward function\" width=\"100%\">\n",
        "\n",
        "- *Orientation bonus*: we **reward him for getting close to the target**.\n",
        "- *Time penalty*: a fixed-time penalty given at every action to **force him to get to the stick as fast as possible**.\n",
        "- *Rotation penalty*: we penalize Huggy if **he spins too much and turns too quickly**.\n",
        "- *Getting to the target reward*: we reward Huggy for **reaching the target**."
      ],
      "metadata": {
        "id": "dYKVj8yUvj55"
      }
    },
    {
      "cell_type": "markdown",
      "source": [
        "## Create the Huggy config file\n",
        "\n",
        "- In ML-Agents, you define the **training hyperparameters into config.yaml files.**\n",
        "\n",
        "- For the scope of this notebook, we're not going to modify the hyperparameters, but if you want to try as an experiment, you should also try to modify some other hyperparameters, Unity provides very [good documentation explaining each of them here](https://github.com/Unity-Technologies/ml-agents/blob/main/docs/Training-Configuration-File.md).\n",
        "\n",
        "- But we need to create a config file for Huggy.\n",
        "\n",
        "  - To do that click on Folder logo on the left of your screen.\n",
        "\n",
        "  <img src=\"https://huggingface.co/datasets/huggingface-deep-rl-course/course-images/resolve/main/en/unit1/create_file.png\" alt=\"Create file\" width=\"10%\">\n",
        "\n",
        "  - Go to `/content/ml-agents/config/ppo`\n",
        "  - Right mouse click and create a new file called `Huggy.yaml`\n",
        "\n",
        "  <img src=\"https://huggingface.co/datasets/huggingface-deep-rl-course/course-images/resolve/main/en/unit1/create-huggy.png\" alt=\"Create huggy.yaml\" width=\"20%\">\n",
        "\n",
        "- Copy and paste the content below 🔽"
      ],
      "metadata": {
        "id": "NAuEq32Mwvtz"
      }
    },
    {
      "cell_type": "code",
      "source": [
        "behaviors:\n",
        "  Huggy:\n",
        "    trainer_type: ppo\n",
        "    hyperparameters:\n",
        "      batch_size: 2048\n",
        "      buffer_size: 20480\n",
        "      learning_rate: 0.0003\n",
        "      beta: 0.005\n",
        "      epsilon: 0.2\n",
        "      lambd: 0.95\n",
        "      num_epoch: 3\n",
        "      learning_rate_schedule: linear\n",
        "    network_settings:\n",
        "      normalize: true\n",
        "      hidden_units: 512\n",
        "      num_layers: 3\n",
        "      vis_encode_type: simple\n",
        "    reward_signals:\n",
        "      extrinsic:\n",
        "        gamma: 0.995\n",
        "        strength: 1.0\n",
        "    checkpoint_interval: 200000\n",
        "    keep_checkpoints: 15\n",
        "    max_steps: 2e6\n",
        "    time_horizon: 1000\n",
        "    summary_freq: 50000"
      ],
      "metadata": {
        "id": "loQ0N5jhXW71"
      },
      "execution_count": null,
      "outputs": []
    },
    {
      "cell_type": "markdown",
      "source": [
        "- Don't forget to save the file!"
      ],
      "metadata": {
        "id": "oakN7UHwXdCX"
      }
    },
    {
      "cell_type": "markdown",
      "source": [
        "- **In the case you want to modify the hyperparameters**, in Google Colab notebook, you can click here to open the config.yaml: `/content/ml-agents/config/ppo/Huggy.yaml`\n",
        "\n",
        "- For instance **if you want to save more models during the training** (for now, we save every 200,000 training timesteps). You need to modify:\n",
        "  - `checkpoint_interval`: The number of training timesteps collected between each checkpoint.\n",
        "  - `keep_checkpoints`: The maximum number of model checkpoints to keep.\n",
        "\n",
        "=> Just keep in mind that **decreasing the `checkpoint_interval` means more models to upload to the Hub and so a longer uploading time**\n",
        "We’re now ready to train our agent 🔥."
      ],
      "metadata": {
        "id": "r9wv5NYGw-05"
      }
    },
    {
      "cell_type": "markdown",
      "metadata": {
        "id": "f9fI555bO12v"
      },
      "source": [
        "## Train our agent\n",
        "\n",
        "To train our agent, we just need to **launch mlagents-learn and select the executable containing the environment.**\n",
        "\n",
        "<img src=\"https://huggingface.co/datasets/huggingface-deep-rl-course/course-images/resolve/main/en/notebooks/unit-bonus1/mllearn.png\" alt=\"ml learn function\" width=\"100%\">\n",
        "\n",
        "With ML Agents, we run a training script. We define four parameters:\n",
        "\n",
        "1. `mlagents-learn <config>`: the path where the hyperparameter config file is.\n",
        "2. `--env`: where the environment executable is.\n",
        "3. `--run-id`: the name you want to give to your training run id.\n",
        "4. `--no-graphics`: to not launch the visualization during the training.\n",
        "\n",
        "Train the model and use the `--resume` flag to continue training in case of interruption.\n",
        "\n",
        "> It will fail first time when you use `--resume`, try running the block again to bypass the error.\n",
        "\n"
      ]
    },
    {
      "cell_type": "markdown",
      "source": [
        "The training will take 30 to 45min depending on your machine (don't forget to **set up a GPU**), go take a ☕️you deserve it 🤗."
      ],
      "metadata": {
        "id": "lN32oWF8zPjs"
      }
    },
    {
      "cell_type": "code",
      "execution_count": 7,
      "metadata": {
        "id": "bS-Yh1UdHfzy",
        "colab": {
          "base_uri": "https://localhost:8080/"
        },
        "outputId": "4567d0d2-a7aa-48bd-ab17-2a32f6d5dc51"
      },
      "outputs": [
        {
          "output_type": "stream",
          "name": "stdout",
          "text": [
            "2024-11-08 21:55:41.152103: E external/local_xla/xla/stream_executor/cuda/cuda_fft.cc:485] Unable to register cuFFT factory: Attempting to register factory for plugin cuFFT when one has already been registered\n",
            "2024-11-08 21:55:41.194362: E external/local_xla/xla/stream_executor/cuda/cuda_dnn.cc:8454] Unable to register cuDNN factory: Attempting to register factory for plugin cuDNN when one has already been registered\n",
            "2024-11-08 21:55:41.210264: E external/local_xla/xla/stream_executor/cuda/cuda_blas.cc:1452] Unable to register cuBLAS factory: Attempting to register factory for plugin cuBLAS when one has already been registered\n",
            "2024-11-08 21:55:41.239677: I tensorflow/core/platform/cpu_feature_guard.cc:210] This TensorFlow binary is optimized to use available CPU instructions in performance-critical operations.\n",
            "To enable the following instructions: AVX2 FMA, in other operations, rebuild TensorFlow with the appropriate compiler flags.\n",
            "2024-11-08 21:55:43.259297: W tensorflow/compiler/tf2tensorrt/utils/py_utils.cc:38] TF-TRT Warning: Could not find TensorRT\n",
            "\n",
            "            ┐  ╖\n",
            "        ╓╖╬│╡  ││╬╖╖\n",
            "    ╓╖╬│││││┘  ╬│││││╬╖\n",
            " ╖╬│││││╬╜        ╙╬│││││╖╖                               ╗╗╗\n",
            " ╬╬╬╬╖││╦╖        ╖╬││╗╣╣╣╬      ╟╣╣╬    ╟╣╣╣             ╜╜╜  ╟╣╣\n",
            " ╬╬╬╬╬╬╬╬╖│╬╖╖╓╬╪│╓╣╣╣╣╣╣╣╬      ╟╣╣╬    ╟╣╣╣ ╒╣╣╖╗╣╣╣╗   ╣╣╣ ╣╣╣╣╣╣ ╟╣╣╖   ╣╣╣\n",
            " ╬╬╬╬┐  ╙╬╬╬╬│╓╣╣╣╝╜  ╫╣╣╣╬      ╟╣╣╬    ╟╣╣╣ ╟╣╣╣╙ ╙╣╣╣  ╣╣╣ ╙╟╣╣╜╙  ╫╣╣  ╟╣╣\n",
            " ╬╬╬╬┐     ╙╬╬╣╣      ╫╣╣╣╬      ╟╣╣╬    ╟╣╣╣ ╟╣╣╬   ╣╣╣  ╣╣╣  ╟╣╣     ╣╣╣┌╣╣╜\n",
            " ╬╬╬╜       ╬╬╣╣      ╙╝╣╣╬      ╙╣╣╣╗╖╓╗╣╣╣╜ ╟╣╣╬   ╣╣╣  ╣╣╣  ╟╣╣╦╓    ╣╣╣╣╣\n",
            " ╙   ╓╦╖    ╬╬╣╣   ╓╗╗╖            ╙╝╣╣╣╣╝╜   ╘╝╝╜   ╝╝╝  ╝╝╝   ╙╣╣╣    ╟╣╣╣\n",
            "   ╩╬╬╬╬╬╬╦╦╬╬╣╣╗╣╣╣╣╣╣╣╝                                             ╫╣╣╣╣\n",
            "      ╙╬╬╬╬╬╬╬╣╣╣╣╣╣╝╜\n",
            "          ╙╬╬╬╣╣╣╜\n",
            "             ╙\n",
            "        \n",
            " Version information:\n",
            "  ml-agents: 1.2.0.dev0,\n",
            "  ml-agents-envs: 1.2.0.dev0,\n",
            "  Communicator API: 1.5.0,\n",
            "  PyTorch: 2.5.0+cu121\n",
            "[INFO] Connected to Unity environment with package version 2.2.1-exp.1 and communication version 1.5.0\n",
            "[INFO] Connected new brain: Huggy?team=0\n",
            "[INFO] Hyperparameters for behavior name Huggy: \n",
            "\ttrainer_type:\tppo\n",
            "\thyperparameters:\t\n",
            "\t  batch_size:\t2048\n",
            "\t  buffer_size:\t20480\n",
            "\t  learning_rate:\t0.0003\n",
            "\t  beta:\t0.005\n",
            "\t  epsilon:\t0.2\n",
            "\t  lambd:\t0.95\n",
            "\t  num_epoch:\t3\n",
            "\t  shared_critic:\tFalse\n",
            "\t  learning_rate_schedule:\tlinear\n",
            "\t  beta_schedule:\tlinear\n",
            "\t  epsilon_schedule:\tlinear\n",
            "\tcheckpoint_interval:\t200000\n",
            "\tnetwork_settings:\t\n",
            "\t  normalize:\tTrue\n",
            "\t  hidden_units:\t512\n",
            "\t  num_layers:\t3\n",
            "\t  vis_encode_type:\tsimple\n",
            "\t  memory:\tNone\n",
            "\t  goal_conditioning_type:\thyper\n",
            "\t  deterministic:\tFalse\n",
            "\treward_signals:\t\n",
            "\t  extrinsic:\t\n",
            "\t    gamma:\t0.995\n",
            "\t    strength:\t1.0\n",
            "\t    network_settings:\t\n",
            "\t      normalize:\tFalse\n",
            "\t      hidden_units:\t128\n",
            "\t      num_layers:\t2\n",
            "\t      vis_encode_type:\tsimple\n",
            "\t      memory:\tNone\n",
            "\t      goal_conditioning_type:\thyper\n",
            "\t      deterministic:\tFalse\n",
            "\tinit_path:\tNone\n",
            "\tkeep_checkpoints:\t15\n",
            "\teven_checkpoints:\tFalse\n",
            "\tmax_steps:\t2000000\n",
            "\ttime_horizon:\t1000\n",
            "\tsummary_freq:\t50000\n",
            "\tthreaded:\tFalse\n",
            "\tself_play:\tNone\n",
            "\tbehavioral_cloning:\tNone\n",
            "[INFO] Huggy. Step: 50000. Time Elapsed: 118.394 s. Mean Reward: 1.868. Std of Reward: 0.928. Training.\n",
            "[INFO] Huggy. Step: 100000. Time Elapsed: 221.189 s. Mean Reward: 2.651. Std of Reward: 1.145. Training.\n",
            "[INFO] Huggy. Step: 150000. Time Elapsed: 341.356 s. Mean Reward: 3.115. Std of Reward: 1.282. Training.\n",
            "[INFO] Huggy. Step: 200000. Time Elapsed: 447.881 s. Mean Reward: 3.298. Std of Reward: 1.318. Training.\n",
            "[INFO] Exported results/Huggy2/Huggy/Huggy-199963.onnx\n",
            "[INFO] Huggy. Step: 250000. Time Elapsed: 568.506 s. Mean Reward: 3.599. Std of Reward: 1.488. Training.\n",
            "[INFO] Huggy. Step: 300000. Time Elapsed: 674.689 s. Mean Reward: 3.731. Std of Reward: 1.491. Training.\n",
            "[INFO] Huggy. Step: 350000. Time Elapsed: 780.416 s. Mean Reward: 3.718. Std of Reward: 1.583. Training.\n",
            "[INFO] Huggy. Step: 400000. Time Elapsed: 903.052 s. Mean Reward: 3.891. Std of Reward: 1.622. Training.\n",
            "[INFO] Exported results/Huggy2/Huggy/Huggy-399984.onnx\n",
            "[INFO] Huggy. Step: 450000. Time Elapsed: 1010.351 s. Mean Reward: 3.764. Std of Reward: 1.551. Training.\n",
            "[INFO] Huggy. Step: 500000. Time Elapsed: 1131.035 s. Mean Reward: 3.782. Std of Reward: 1.647. Training.\n",
            "[INFO] Huggy. Step: 550000. Time Elapsed: 1239.557 s. Mean Reward: 3.823. Std of Reward: 1.601. Training.\n",
            "[INFO] Huggy. Step: 600000. Time Elapsed: 1360.243 s. Mean Reward: 3.887. Std of Reward: 1.687. Training.\n",
            "[INFO] Exported results/Huggy2/Huggy/Huggy-599968.onnx\n",
            "[INFO] Huggy. Step: 650000. Time Elapsed: 1469.034 s. Mean Reward: 3.799. Std of Reward: 1.630. Training.\n",
            "[INFO] Huggy. Step: 700000. Time Elapsed: 1592.944 s. Mean Reward: 3.817. Std of Reward: 1.636. Training.\n",
            "[INFO] Huggy. Step: 750000. Time Elapsed: 1701.246 s. Mean Reward: 3.954. Std of Reward: 1.627. Training.\n",
            "[INFO] Huggy. Step: 800000. Time Elapsed: 1810.011 s. Mean Reward: 3.909. Std of Reward: 1.614. Training.\n",
            "[INFO] Exported results/Huggy2/Huggy/Huggy-799995.onnx\n",
            "[INFO] Huggy. Step: 850000. Time Elapsed: 1930.035 s. Mean Reward: 3.996. Std of Reward: 1.613. Training.\n",
            "[INFO] Huggy. Step: 900000. Time Elapsed: 2038.302 s. Mean Reward: 3.961. Std of Reward: 1.693. Training.\n",
            "[INFO] Huggy. Step: 950000. Time Elapsed: 2161.526 s. Mean Reward: 3.956. Std of Reward: 1.652. Training.\n",
            "[INFO] Huggy. Step: 1000000. Time Elapsed: 2270.543 s. Mean Reward: 3.915. Std of Reward: 1.581. Training.\n",
            "[INFO] Exported results/Huggy2/Huggy/Huggy-999995.onnx\n",
            "[INFO] Huggy. Step: 1050000. Time Elapsed: 2394.610 s. Mean Reward: 3.874. Std of Reward: 1.632. Training.\n",
            "[INFO] Huggy. Step: 1100000. Time Elapsed: 2504.711 s. Mean Reward: 3.809. Std of Reward: 1.611. Training.\n",
            "[INFO] Huggy. Step: 1150000. Time Elapsed: 2612.742 s. Mean Reward: 3.866. Std of Reward: 1.712. Training.\n",
            "[INFO] Huggy. Step: 1200000. Time Elapsed: 2737.403 s. Mean Reward: 3.850. Std of Reward: 1.790. Training.\n",
            "[INFO] Exported results/Huggy2/Huggy/Huggy-1199989.onnx\n",
            "[INFO] Huggy. Step: 1250000. Time Elapsed: 2846.086 s. Mean Reward: 3.774. Std of Reward: 1.858. Training.\n",
            "[INFO] Huggy. Step: 1300000. Time Elapsed: 2971.170 s. Mean Reward: 3.754. Std of Reward: 1.971. Training.\n",
            "[INFO] Huggy. Step: 1350000. Time Elapsed: 3080.085 s. Mean Reward: 3.700. Std of Reward: 1.918. Training.\n",
            "[INFO] Huggy. Step: 1400000. Time Elapsed: 3207.025 s. Mean Reward: 3.704. Std of Reward: 1.972. Training.\n",
            "[INFO] Exported results/Huggy2/Huggy/Huggy-1399916.onnx\n",
            "[INFO] Huggy. Step: 1450000. Time Elapsed: 3314.427 s. Mean Reward: 3.803. Std of Reward: 1.934. Training.\n",
            "[INFO] Huggy. Step: 1500000. Time Elapsed: 3422.136 s. Mean Reward: 3.778. Std of Reward: 1.972. Training.\n",
            "[INFO] Huggy. Step: 1550000. Time Elapsed: 3547.483 s. Mean Reward: 3.728. Std of Reward: 1.936. Training.\n",
            "[INFO] Huggy. Step: 1600000. Time Elapsed: 3654.888 s. Mean Reward: 3.764. Std of Reward: 2.139. Training.\n",
            "[INFO] Exported results/Huggy2/Huggy/Huggy-1599939.onnx\n",
            "[INFO] Huggy. Step: 1650000. Time Elapsed: 3780.050 s. Mean Reward: 3.754. Std of Reward: 2.023. Training.\n",
            "[INFO] Huggy. Step: 1700000. Time Elapsed: 3889.826 s. Mean Reward: 3.690. Std of Reward: 2.054. Training.\n",
            "[INFO] Huggy. Step: 1750000. Time Elapsed: 4017.748 s. Mean Reward: 3.686. Std of Reward: 2.016. Training.\n",
            "[INFO] Huggy. Step: 1800000. Time Elapsed: 4126.730 s. Mean Reward: 3.803. Std of Reward: 2.185. Training.\n",
            "[INFO] Exported results/Huggy2/Huggy/Huggy-1799999.onnx\n",
            "[INFO] Huggy. Step: 1850000. Time Elapsed: 4237.879 s. Mean Reward: 3.715. Std of Reward: 2.234. Training.\n",
            "[INFO] Huggy. Step: 1900000. Time Elapsed: 4361.146 s. Mean Reward: 3.720. Std of Reward: 2.139. Training.\n",
            "[INFO] Huggy. Step: 1950000. Time Elapsed: 4469.665 s. Mean Reward: 3.777. Std of Reward: 2.269. Training.\n",
            "[INFO] Huggy. Step: 2000000. Time Elapsed: 4591.843 s. Mean Reward: 3.794. Std of Reward: 2.223. Training.\n",
            "[INFO] Exported results/Huggy2/Huggy/Huggy-1999925.onnx\n",
            "[INFO] Exported results/Huggy2/Huggy/Huggy-2000009.onnx\n",
            "[INFO] Copied results/Huggy2/Huggy/Huggy-2000009.onnx to results/Huggy2/Huggy.onnx.\n"
          ]
        }
      ],
      "source": [
        "!mlagents-learn ./config/ppo/Huggy.yaml --env=./trained-envs-executables/linux/Huggy/Huggy --run-id=\"Huggy2\" --no-graphics"
      ]
    },
    {
      "cell_type": "markdown",
      "metadata": {
        "id": "5Vue94AzPy1t"
      },
      "source": [
        "## Push the agent to the 🤗 Hub\n",
        "\n",
        "- Now that we trained our agent, we’re **ready to push it to the Hub to be able to play with Huggy on your browser🔥.**"
      ]
    },
    {
      "cell_type": "markdown",
      "source": [
        "To be able to share your model with the community there are three more steps to follow:\n",
        "\n",
        "1️⃣ (If it's not already done) create an account to HF ➡ https://huggingface.co/join\n",
        "\n",
        "2️⃣ Sign in and then, you need to store your authentication token from the Hugging Face website.\n",
        "- Create a new token (https://huggingface.co/settings/tokens) **with write role**\n",
        "\n",
        "<img src=\"https://huggingface.co/datasets/huggingface-deep-rl-course/course-images/resolve/main/en/notebooks/create-token.jpg\" alt=\"Create HF Token\">\n",
        "\n",
        "- Copy the token\n",
        "- Run the cell below and paste the token"
      ],
      "metadata": {
        "id": "izT6FpgNzZ6R"
      }
    },
    {
      "cell_type": "code",
      "execution_count": 8,
      "metadata": {
        "id": "rKt2vsYoK56o",
        "colab": {
          "base_uri": "https://localhost:8080/",
          "height": 145,
          "referenced_widgets": [
            "f36fc5c000174067b8956a961fc72e84",
            "6c03d039a3d2416181a62cbb620b580b",
            "4a8bce5455b3495e9237eaa02aa60ce6",
            "500829434a8346f2873dd78f16c7711b",
            "ab49166075f943d8bfc1a0ce813b0553",
            "4b05c5bbe24946f48f457109617a3ddb",
            "eed59de94f5543d0b6ef0b1c34f3f92d",
            "fda43006eeb24040bd5d378f773ab5d0",
            "3f0836d45c2e4baebd1906a95bfa5c25",
            "ee9080c353054a99b034e216ac458edd",
            "ac06c4c99e0e4bb2be7e6a8c0a524940",
            "66b0f4576ba04dad8affacc3e48baed6",
            "5c83e73e328045f484532e06c97a1d31",
            "a358744475eb41d39cd542cebd4e837a",
            "c1c7b7b603a54708bedc8041d593c08d",
            "73607fa422094e409ff7c6604f0670b6",
            "bca51753009f450896ef4264743e53c2",
            "2cc39d60e2b04482b47ccda66e7a4824",
            "7cedd073bf034cffa177daedbe702abc",
            "f856bd5c65c74958a08daa6b64f63ec1",
            "25d1af0010bf436e9df16a54d15f4d70",
            "9d6b4d9257904df08495ce83fe560eca",
            "985f4e2b7c294d1f8ab86c359a727ada",
            "9fde286fc78c4e5fa5eac3908ee997d0",
            "4b5d22e5ebb74b30b7c2814537c3ac20",
            "7ddfde8fdcf441aa9ba21743779b1107",
            "5eccd7c9d8b74f18bbc8202ef51d5e2d",
            "39f7ac835eb94e3f98056635473d628c",
            "0d44097c733f4aebb36b4d9f35157d81",
            "4ad00c5f5d0941f0bd04e503cc98829e",
            "ee4d40748c124714af984a176ea73153",
            "db2c38cb20fc495ead520c3f1dec11b0"
          ]
        },
        "outputId": "972436c7-f31a-4718-e2d5-fa7f98c8009c"
      },
      "outputs": [
        {
          "output_type": "display_data",
          "data": {
            "text/plain": [
              "VBox(children=(HTML(value='<center> <img\\nsrc=https://huggingface.co/front/assets/huggingface_logo-noborder.sv…"
            ],
            "application/vnd.jupyter.widget-view+json": {
              "version_major": 2,
              "version_minor": 0,
              "model_id": "f36fc5c000174067b8956a961fc72e84"
            }
          },
          "metadata": {}
        }
      ],
      "source": [
        "from huggingface_hub import notebook_login\n",
        "notebook_login()"
      ]
    },
    {
      "cell_type": "markdown",
      "source": [
        "If you don't want to use a Google Colab or a Jupyter Notebook, you need to use this command instead: `huggingface-cli login`"
      ],
      "metadata": {
        "id": "ew59mK19zjtN"
      }
    },
    {
      "cell_type": "markdown",
      "metadata": {
        "id": "Xi0y_VASRzJU"
      },
      "source": [
        "Then, we simply need to run `mlagents-push-to-hf`.\n",
        "\n",
        "<img src=\"https://huggingface.co/datasets/huggingface-deep-rl-course/course-images/resolve/main/en/notebooks/unit-bonus1/mlpush.png\" alt=\"ml learn function\" width=\"100%\">"
      ]
    },
    {
      "cell_type": "markdown",
      "source": [
        "And we define 4 parameters:\n",
        "\n",
        "1. `--run-id`: the name of the training run id.\n",
        "2. `--local-dir`: where the agent was saved, it’s results/<run_id name>, so in my case results/First Training.\n",
        "3. `--repo-id`: the name of the Hugging Face repo you want to create or update. It’s always <your huggingface username>/<the repo name>\n",
        "If the repo does not exist **it will be created automatically**\n",
        "4. `--commit-message`: since HF repos are git repository you need to define a commit message."
      ],
      "metadata": {
        "id": "KK4fPfnczunT"
      }
    },
    {
      "cell_type": "code",
      "execution_count": 10,
      "metadata": {
        "id": "dGEFAIboLVc6",
        "colab": {
          "base_uri": "https://localhost:8080/"
        },
        "outputId": "2d6687a0-5ad9-4cee-c394-44d3558a50ba"
      },
      "outputs": [
        {
          "output_type": "stream",
          "name": "stdout",
          "text": [
            "[INFO] This function will create a model card and upload your HuggyTraining into HuggingFace Hub. This is a work in progress: If you encounter a bug, please send open an issue\n",
            "[INFO] Pushing repo HuggyTraining to the Hugging Face Hub\n",
            "Huggy-1399916.onnx:   0% 0.00/2.27M [00:00<?, ?B/s]\n",
            "Huggy-1199989.onnx:   0% 0.00/2.27M [00:00<?, ?B/s]\u001b[A\n",
            "\n",
            "Upload 25 LFS files:   0% 0/25 [00:00<?, ?it/s]\u001b[A\u001b[A\n",
            "\n",
            "\n",
            "Huggy-1399916.pt:   0% 0.00/13.5M [00:00<?, ?B/s]\u001b[A\u001b[A\u001b[A\n",
            "\n",
            "\n",
            "\n",
            "Huggy-1199989.pt:   0% 0.00/13.5M [00:00<?, ?B/s]\u001b[A\u001b[A\u001b[A\u001b[A\n",
            "\n",
            "\n",
            "\n",
            "\n",
            "Huggy-1399916.onnx:  21% 475k/2.27M [00:00<00:00, 4.38MB/s]\n",
            "Huggy-1199989.onnx:  24% 541k/2.27M [00:00<00:00, 5.08MB/s]\u001b[A\n",
            "\n",
            "\n",
            "Huggy-1399916.pt:   4% 541k/13.5M [00:00<00:02, 5.17MB/s]\u001b[A\u001b[A\u001b[A\n",
            "\n",
            "\n",
            "\n",
            "Huggy-1199989.pt:   3% 344k/13.5M [00:00<00:03, 3.34MB/s]\u001b[A\u001b[A\u001b[A\u001b[A\n",
            "\n",
            "\n",
            "\n",
            "\n",
            "Huggy-1599939.onnx:  24% 557k/2.27M [00:00<00:00, 5.42MB/s]\u001b[A\u001b[A\u001b[A\u001b[A\u001b[A\n",
            "\n",
            "\n",
            "\n",
            "Huggy-1199989.pt:  27% 3.59M/13.5M [00:00<00:00, 18.9MB/s]\u001b[A\u001b[A\u001b[A\u001b[A\n",
            "\n",
            "\n",
            "Huggy-1599939.onnx: 100% 2.27M/2.27M [00:00<00:00, 7.96MB/s]\n",
            "Huggy-1399916.onnx: 100% 2.27M/2.27M [00:00<00:00, 7.13MB/s]\n",
            "\n",
            "\n",
            "\n",
            "\n",
            "Huggy-1199989.onnx: 100% 2.27M/2.27M [00:00<00:00, 5.49MB/s]\n",
            "Huggy-1399916.pt: 100% 13.5M/13.5M [00:00<00:00, 27.3MB/s]\n",
            "\n",
            "\n",
            "Huggy-1199989.pt: 100% 13.5M/13.5M [00:00<00:00, 23.7MB/s]\n",
            "Huggy-1599939.pt:  47% 6.37M/13.5M [00:00<00:00, 63.6MB/s]\n",
            "Huggy-1799999.onnx:   0% 0.00/2.27M [00:00<?, ?B/s]\u001b[A\n",
            "\n",
            "\n",
            "Huggy-199963.onnx:   0% 0.00/2.27M [00:00<?, ?B/s]\u001b[A\u001b[A\u001b[A\n",
            "\n",
            "\n",
            "\n",
            "Huggy-1599939.pt:  94% 12.7M/13.5M [00:00<00:00, 59.0MB/s]\n",
            "\n",
            "\n",
            "\n",
            "Huggy-1799999.pt:  33% 4.49M/13.5M [00:00<00:00, 42.4MB/s]\u001b[A\u001b[A\u001b[A\u001b[A\n",
            "\n",
            "\n",
            "\n",
            "\n",
            "Huggy-199963.pt:   0% 0.00/13.5M [00:00<?, ?B/s]\u001b[A\u001b[A\u001b[A\u001b[A\u001b[A\n",
            "\n",
            "Upload 25 LFS files:   8% 2/25 [00:00<00:09,  2.54it/s]\u001b[A\u001b[A\n",
            "\n",
            "\n",
            "\n",
            "Huggy-199963.onnx: 100% 2.27M/2.27M [00:00<00:00, 8.76MB/s]\n",
            "Huggy-1799999.onnx: 100% 2.27M/2.27M [00:00<00:00, 7.98MB/s]\n",
            "\n",
            "\n",
            "\n",
            "\n",
            "\n",
            "Huggy-1599939.pt: 100% 13.5M/13.5M [00:00<00:00, 28.5MB/s]\n",
            "Huggy-1799999.pt: 100% 13.5M/13.5M [00:00<00:00, 29.9MB/s]\n",
            "Huggy-1999925.onnx:   0% 0.00/2.27M [00:00<?, ?B/s]\n",
            "\n",
            "Upload 25 LFS files:  24% 6/25 [00:01<00:03,  6.18it/s]\u001b[A\u001b[A\n",
            "Huggy-1999925.pt:   0% 0.00/13.5M [00:00<?, ?B/s]\u001b[A\n",
            "Huggy-1999925.pt:  95% 12.9M/13.5M [00:00<00:00, 124MB/s]\u001b[A\n",
            "\n",
            "Upload 25 LFS files:  28% 7/25 [00:01<00:02,  6.34it/s]\u001b[A\u001b[A\n",
            "\n",
            "\n",
            "Huggy-1999925.onnx: 100% 2.27M/2.27M [00:00<00:00, 10.2MB/s]\n",
            "Huggy-199963.pt: 100% 13.5M/13.5M [00:00<00:00, 21.8MB/s]\n",
            "\n",
            "\n",
            "Huggy-1999925.pt: 100% 13.5M/13.5M [00:00<00:00, 39.6MB/s]\n",
            "\n",
            "Huggy.onnx: 100% 2.27M/2.27M [00:00<00:00, 7.65MB/s]\n",
            "\n",
            "\n",
            "\n",
            "Huggy-399984.pt:   0% 0.00/13.5M [00:00<?, ?B/s]\u001b[A\u001b[A\u001b[A\n",
            "\n",
            "Upload 25 LFS files:  40% 10/25 [00:01<00:02,  6.95it/s]\u001b[A\u001b[A\n",
            "\n",
            "\n",
            "\n",
            "Huggy-2000009.pt: 100% 13.5M/13.5M [00:00<00:00, 34.5MB/s]\n",
            "\n",
            "\n",
            "\n",
            "Huggy-399984.onnx: 100% 2.27M/2.27M [00:00<00:00, 7.26MB/s]\n",
            "Huggy-599968.pt:   0% 0.00/13.5M [00:00<?, ?B/s]\n",
            "Huggy-599968.onnx: 100% 2.27M/2.27M [00:00<00:00, 7.70MB/s]\n",
            "Huggy-399984.pt: 100% 13.5M/13.5M [00:00<00:00, 32.7MB/s]\n",
            "\n",
            "\n",
            "\n",
            "Huggy-799995.pt:   0% 0.00/13.5M [00:00<?, ?B/s]\u001b[A\u001b[A\u001b[A\n",
            "\n",
            "Upload 25 LFS files:  52% 13/25 [00:02<00:01,  6.45it/s]\u001b[A\u001b[A\n",
            "\n",
            "\n",
            "\n",
            "Huggy-999995.pt:   0% 0.00/13.5M [00:00<?, ?B/s]\u001b[A\u001b[A\u001b[A\u001b[A\n",
            "\n",
            "\n",
            "\n",
            "\n",
            "Huggy-799995.onnx: 100% 2.27M/2.27M [00:00<00:00, 8.40MB/s]\n",
            "\n",
            "\n",
            "\n",
            "\n",
            "Huggy-999995.pt:  49% 6.62M/13.5M [00:00<00:00, 53.1MB/s]\u001b[A\u001b[A\u001b[A\u001b[A\n",
            "\n",
            "\n",
            "Huggy-799995.pt:  44% 5.98M/13.5M [00:00<00:00, 44.4MB/s]\u001b[A\u001b[A\u001b[A\n",
            "\n",
            "\n",
            "Huggy-799995.pt:  82% 11.0M/13.5M [00:00<00:00, 46.5MB/s]\u001b[A\u001b[A\u001b[A\n",
            "Huggy-999995.onnx: 100% 2.27M/2.27M [00:00<00:00, 7.87MB/s]\n",
            "\n",
            "Huggy-999995.pt: 100% 13.5M/13.5M [00:00<00:00, 30.8MB/s]\n",
            "Huggy-799995.pt: 100% 13.5M/13.5M [00:00<00:00, 29.2MB/s]\n",
            "\n",
            "\n",
            "\n",
            "Huggy-599968.pt: 100% 13.5M/13.5M [00:00<00:00, 17.0MB/s]\n",
            "checkpoint.pt: 100% 13.5M/13.5M [00:00<00:00, 38.6MB/s]\n",
            "events.out.tfevents.1731102946.c5ff20c74af9.1418.0: 100% 257k/257k [00:00<00:00, 1.23MB/s]\n",
            "\n",
            "\n",
            "Huggy.onnx: 100% 2.27M/2.27M [00:00<00:00, 12.5MB/s]\n",
            "\n",
            "\n",
            "Upload 25 LFS files: 100% 25/25 [00:03<00:00,  7.94it/s]\n",
            "[INFO] Your model is pushed to the hub. You can view your model here: https://huggingface.co/danivicen/ppo-Huggy\n"
          ]
        }
      ],
      "source": [
        "!mlagents-push-to-hf --run-id=\"HuggyTraining\" --local-dir=\"./results/Huggy2\" --repo-id=\"danivicen/ppo-Huggy\" --commit-message=\"Huggy\""
      ]
    },
    {
      "cell_type": "markdown",
      "source": [
        "Else, if everything worked you should have this at the end of the process(but with a different url 😆) :\n",
        "\n",
        "\n",
        "\n",
        "```\n",
        "Your model is pushed to the hub. You can view your model here: https://huggingface.co/ThomasSimonini/ppo-Huggy\n",
        "```\n",
        "\n",
        "It’s the link to your model repository. The repository contains a model card that explains how to use the model, your Tensorboard logs and your config file. **What’s awesome is that it’s a git repository, which means you can have different commits, update your repository with a new push, open Pull Requests, etc.**\n",
        "\n",
        "<img src=\"https://huggingface.co/datasets/huggingface-deep-rl-course/course-images/resolve/main/en/notebooks/unit-bonus1/modelcard.png\" alt=\"ml learn function\" width=\"100%\">"
      ],
      "metadata": {
        "id": "yborB0850FTM"
      }
    },
    {
      "cell_type": "markdown",
      "source": [
        "But now comes the best: **being able to play with Huggy online 👀.**"
      ],
      "metadata": {
        "id": "5Uaon2cg0NrL"
      }
    },
    {
      "cell_type": "markdown",
      "source": [
        "## Play with your Huggy 🐕\n",
        "\n",
        "This step is the simplest:\n",
        "\n",
        "- Open the game Huggy in your browser: https://huggingface.co/spaces/ThomasSimonini/Huggy\n",
        "\n",
        "- Click on Play with my Huggy model\n",
        "\n",
        "<img src=\"https://huggingface.co/datasets/huggingface-deep-rl-course/course-images/resolve/main/en/notebooks/unit-bonus1/load-huggy.jpg\" alt=\"load-huggy\" width=\"100%\">"
      ],
      "metadata": {
        "id": "VMc4oOsE0QiZ"
      }
    },
    {
      "cell_type": "markdown",
      "source": [
        "1. In step 1, type your username (your username is case sensitive: for instance, my username is ThomasSimonini not thomassimonini or ThOmasImoNInI) and click on the search button.\n",
        "2. In step 2, select your model repository.\n",
        "3. In step 3, **choose which model you want to replay**:  - I have multiple ones, since we saved a model every 500000 timesteps.\n",
        "  - But since I want the more recent, I choose `Huggy.onnx`\n",
        "\n",
        "👉 What’s nice **is to try with different models steps to see the improvement of the agent.**"
      ],
      "metadata": {
        "id": "Djs8c5rR0Z8a"
      }
    },
    {
      "cell_type": "markdown",
      "source": [
        "Congrats on finishing this bonus unit!\n",
        "\n",
        "You can now sit and enjoy playing with your Huggy 🐶. And don't **forget to spread the love by sharing Huggy with your friends 🤗**. And if you share about it on social media, **please tag us @huggingface and me @simoninithomas**\n",
        "\n",
        "<img src=\"https://huggingface.co/datasets/huggingface-deep-rl-course/course-images/resolve/main/en/notebooks/unit-bonus1/huggy-cover.jpeg\" alt=\"Huggy cover\" width=\"100%\">\n",
        "\n",
        "\n",
        "## Keep Learning, Stay  awesome 🤗"
      ],
      "metadata": {
        "id": "PI6dPWmh064H"
      }
    }
  ],
  "metadata": {
    "colab": {
      "provenance": []
    },
    "kernelspec": {
      "display_name": "Python 3",
      "name": "python3"
    },
    "language_info": {
      "name": "python"
    },
    "widgets": {
      "application/vnd.jupyter.widget-state+json": {
        "f36fc5c000174067b8956a961fc72e84": {
          "model_module": "@jupyter-widgets/controls",
          "model_name": "VBoxModel",
          "model_module_version": "1.5.0",
          "state": {
            "_dom_classes": [],
            "_model_module": "@jupyter-widgets/controls",
            "_model_module_version": "1.5.0",
            "_model_name": "VBoxModel",
            "_view_count": null,
            "_view_module": "@jupyter-widgets/controls",
            "_view_module_version": "1.5.0",
            "_view_name": "VBoxView",
            "box_style": "",
            "children": [
              "IPY_MODEL_25d1af0010bf436e9df16a54d15f4d70",
              "IPY_MODEL_9d6b4d9257904df08495ce83fe560eca",
              "IPY_MODEL_985f4e2b7c294d1f8ab86c359a727ada",
              "IPY_MODEL_9fde286fc78c4e5fa5eac3908ee997d0"
            ],
            "layout": "IPY_MODEL_eed59de94f5543d0b6ef0b1c34f3f92d"
          }
        },
        "6c03d039a3d2416181a62cbb620b580b": {
          "model_module": "@jupyter-widgets/controls",
          "model_name": "HTMLModel",
          "model_module_version": "1.5.0",
          "state": {
            "_dom_classes": [],
            "_model_module": "@jupyter-widgets/controls",
            "_model_module_version": "1.5.0",
            "_model_name": "HTMLModel",
            "_view_count": null,
            "_view_module": "@jupyter-widgets/controls",
            "_view_module_version": "1.5.0",
            "_view_name": "HTMLView",
            "description": "",
            "description_tooltip": null,
            "layout": "IPY_MODEL_fda43006eeb24040bd5d378f773ab5d0",
            "placeholder": "​",
            "style": "IPY_MODEL_3f0836d45c2e4baebd1906a95bfa5c25",
            "value": "<center> <img\nsrc=https://huggingface.co/front/assets/huggingface_logo-noborder.svg\nalt='Hugging Face'> <br> Copy a token from <a\nhref=\"https://huggingface.co/settings/tokens\" target=\"_blank\">your Hugging Face\ntokens page</a> and paste it below. <br> Immediately click login after copying\nyour token or it might be stored in plain text in this notebook file. </center>"
          }
        },
        "4a8bce5455b3495e9237eaa02aa60ce6": {
          "model_module": "@jupyter-widgets/controls",
          "model_name": "PasswordModel",
          "model_module_version": "1.5.0",
          "state": {
            "_dom_classes": [],
            "_model_module": "@jupyter-widgets/controls",
            "_model_module_version": "1.5.0",
            "_model_name": "PasswordModel",
            "_view_count": null,
            "_view_module": "@jupyter-widgets/controls",
            "_view_module_version": "1.5.0",
            "_view_name": "PasswordView",
            "continuous_update": true,
            "description": "Token:",
            "description_tooltip": null,
            "disabled": false,
            "layout": "IPY_MODEL_ee9080c353054a99b034e216ac458edd",
            "placeholder": "​",
            "style": "IPY_MODEL_ac06c4c99e0e4bb2be7e6a8c0a524940",
            "value": ""
          }
        },
        "500829434a8346f2873dd78f16c7711b": {
          "model_module": "@jupyter-widgets/controls",
          "model_name": "CheckboxModel",
          "model_module_version": "1.5.0",
          "state": {
            "_dom_classes": [],
            "_model_module": "@jupyter-widgets/controls",
            "_model_module_version": "1.5.0",
            "_model_name": "CheckboxModel",
            "_view_count": null,
            "_view_module": "@jupyter-widgets/controls",
            "_view_module_version": "1.5.0",
            "_view_name": "CheckboxView",
            "description": "Add token as git credential?",
            "description_tooltip": null,
            "disabled": false,
            "indent": true,
            "layout": "IPY_MODEL_66b0f4576ba04dad8affacc3e48baed6",
            "style": "IPY_MODEL_5c83e73e328045f484532e06c97a1d31",
            "value": true
          }
        },
        "ab49166075f943d8bfc1a0ce813b0553": {
          "model_module": "@jupyter-widgets/controls",
          "model_name": "ButtonModel",
          "model_module_version": "1.5.0",
          "state": {
            "_dom_classes": [],
            "_model_module": "@jupyter-widgets/controls",
            "_model_module_version": "1.5.0",
            "_model_name": "ButtonModel",
            "_view_count": null,
            "_view_module": "@jupyter-widgets/controls",
            "_view_module_version": "1.5.0",
            "_view_name": "ButtonView",
            "button_style": "",
            "description": "Login",
            "disabled": false,
            "icon": "",
            "layout": "IPY_MODEL_a358744475eb41d39cd542cebd4e837a",
            "style": "IPY_MODEL_c1c7b7b603a54708bedc8041d593c08d",
            "tooltip": ""
          }
        },
        "4b05c5bbe24946f48f457109617a3ddb": {
          "model_module": "@jupyter-widgets/controls",
          "model_name": "HTMLModel",
          "model_module_version": "1.5.0",
          "state": {
            "_dom_classes": [],
            "_model_module": "@jupyter-widgets/controls",
            "_model_module_version": "1.5.0",
            "_model_name": "HTMLModel",
            "_view_count": null,
            "_view_module": "@jupyter-widgets/controls",
            "_view_module_version": "1.5.0",
            "_view_name": "HTMLView",
            "description": "",
            "description_tooltip": null,
            "layout": "IPY_MODEL_73607fa422094e409ff7c6604f0670b6",
            "placeholder": "​",
            "style": "IPY_MODEL_bca51753009f450896ef4264743e53c2",
            "value": "\n<b>Pro Tip:</b> If you don't already have one, you can create a dedicated\n'notebooks' token with 'write' access, that you can then easily reuse for all\nnotebooks. </center>"
          }
        },
        "eed59de94f5543d0b6ef0b1c34f3f92d": {
          "model_module": "@jupyter-widgets/base",
          "model_name": "LayoutModel",
          "model_module_version": "1.2.0",
          "state": {
            "_model_module": "@jupyter-widgets/base",
            "_model_module_version": "1.2.0",
            "_model_name": "LayoutModel",
            "_view_count": null,
            "_view_module": "@jupyter-widgets/base",
            "_view_module_version": "1.2.0",
            "_view_name": "LayoutView",
            "align_content": null,
            "align_items": "center",
            "align_self": null,
            "border": null,
            "bottom": null,
            "display": "flex",
            "flex": null,
            "flex_flow": "column",
            "grid_area": null,
            "grid_auto_columns": null,
            "grid_auto_flow": null,
            "grid_auto_rows": null,
            "grid_column": null,
            "grid_gap": null,
            "grid_row": null,
            "grid_template_areas": null,
            "grid_template_columns": null,
            "grid_template_rows": null,
            "height": null,
            "justify_content": null,
            "justify_items": null,
            "left": null,
            "margin": null,
            "max_height": null,
            "max_width": null,
            "min_height": null,
            "min_width": null,
            "object_fit": null,
            "object_position": null,
            "order": null,
            "overflow": null,
            "overflow_x": null,
            "overflow_y": null,
            "padding": null,
            "right": null,
            "top": null,
            "visibility": null,
            "width": "50%"
          }
        },
        "fda43006eeb24040bd5d378f773ab5d0": {
          "model_module": "@jupyter-widgets/base",
          "model_name": "LayoutModel",
          "model_module_version": "1.2.0",
          "state": {
            "_model_module": "@jupyter-widgets/base",
            "_model_module_version": "1.2.0",
            "_model_name": "LayoutModel",
            "_view_count": null,
            "_view_module": "@jupyter-widgets/base",
            "_view_module_version": "1.2.0",
            "_view_name": "LayoutView",
            "align_content": null,
            "align_items": null,
            "align_self": null,
            "border": null,
            "bottom": null,
            "display": null,
            "flex": null,
            "flex_flow": null,
            "grid_area": null,
            "grid_auto_columns": null,
            "grid_auto_flow": null,
            "grid_auto_rows": null,
            "grid_column": null,
            "grid_gap": null,
            "grid_row": null,
            "grid_template_areas": null,
            "grid_template_columns": null,
            "grid_template_rows": null,
            "height": null,
            "justify_content": null,
            "justify_items": null,
            "left": null,
            "margin": null,
            "max_height": null,
            "max_width": null,
            "min_height": null,
            "min_width": null,
            "object_fit": null,
            "object_position": null,
            "order": null,
            "overflow": null,
            "overflow_x": null,
            "overflow_y": null,
            "padding": null,
            "right": null,
            "top": null,
            "visibility": null,
            "width": null
          }
        },
        "3f0836d45c2e4baebd1906a95bfa5c25": {
          "model_module": "@jupyter-widgets/controls",
          "model_name": "DescriptionStyleModel",
          "model_module_version": "1.5.0",
          "state": {
            "_model_module": "@jupyter-widgets/controls",
            "_model_module_version": "1.5.0",
            "_model_name": "DescriptionStyleModel",
            "_view_count": null,
            "_view_module": "@jupyter-widgets/base",
            "_view_module_version": "1.2.0",
            "_view_name": "StyleView",
            "description_width": ""
          }
        },
        "ee9080c353054a99b034e216ac458edd": {
          "model_module": "@jupyter-widgets/base",
          "model_name": "LayoutModel",
          "model_module_version": "1.2.0",
          "state": {
            "_model_module": "@jupyter-widgets/base",
            "_model_module_version": "1.2.0",
            "_model_name": "LayoutModel",
            "_view_count": null,
            "_view_module": "@jupyter-widgets/base",
            "_view_module_version": "1.2.0",
            "_view_name": "LayoutView",
            "align_content": null,
            "align_items": null,
            "align_self": null,
            "border": null,
            "bottom": null,
            "display": null,
            "flex": null,
            "flex_flow": null,
            "grid_area": null,
            "grid_auto_columns": null,
            "grid_auto_flow": null,
            "grid_auto_rows": null,
            "grid_column": null,
            "grid_gap": null,
            "grid_row": null,
            "grid_template_areas": null,
            "grid_template_columns": null,
            "grid_template_rows": null,
            "height": null,
            "justify_content": null,
            "justify_items": null,
            "left": null,
            "margin": null,
            "max_height": null,
            "max_width": null,
            "min_height": null,
            "min_width": null,
            "object_fit": null,
            "object_position": null,
            "order": null,
            "overflow": null,
            "overflow_x": null,
            "overflow_y": null,
            "padding": null,
            "right": null,
            "top": null,
            "visibility": null,
            "width": null
          }
        },
        "ac06c4c99e0e4bb2be7e6a8c0a524940": {
          "model_module": "@jupyter-widgets/controls",
          "model_name": "DescriptionStyleModel",
          "model_module_version": "1.5.0",
          "state": {
            "_model_module": "@jupyter-widgets/controls",
            "_model_module_version": "1.5.0",
            "_model_name": "DescriptionStyleModel",
            "_view_count": null,
            "_view_module": "@jupyter-widgets/base",
            "_view_module_version": "1.2.0",
            "_view_name": "StyleView",
            "description_width": ""
          }
        },
        "66b0f4576ba04dad8affacc3e48baed6": {
          "model_module": "@jupyter-widgets/base",
          "model_name": "LayoutModel",
          "model_module_version": "1.2.0",
          "state": {
            "_model_module": "@jupyter-widgets/base",
            "_model_module_version": "1.2.0",
            "_model_name": "LayoutModel",
            "_view_count": null,
            "_view_module": "@jupyter-widgets/base",
            "_view_module_version": "1.2.0",
            "_view_name": "LayoutView",
            "align_content": null,
            "align_items": null,
            "align_self": null,
            "border": null,
            "bottom": null,
            "display": null,
            "flex": null,
            "flex_flow": null,
            "grid_area": null,
            "grid_auto_columns": null,
            "grid_auto_flow": null,
            "grid_auto_rows": null,
            "grid_column": null,
            "grid_gap": null,
            "grid_row": null,
            "grid_template_areas": null,
            "grid_template_columns": null,
            "grid_template_rows": null,
            "height": null,
            "justify_content": null,
            "justify_items": null,
            "left": null,
            "margin": null,
            "max_height": null,
            "max_width": null,
            "min_height": null,
            "min_width": null,
            "object_fit": null,
            "object_position": null,
            "order": null,
            "overflow": null,
            "overflow_x": null,
            "overflow_y": null,
            "padding": null,
            "right": null,
            "top": null,
            "visibility": null,
            "width": null
          }
        },
        "5c83e73e328045f484532e06c97a1d31": {
          "model_module": "@jupyter-widgets/controls",
          "model_name": "DescriptionStyleModel",
          "model_module_version": "1.5.0",
          "state": {
            "_model_module": "@jupyter-widgets/controls",
            "_model_module_version": "1.5.0",
            "_model_name": "DescriptionStyleModel",
            "_view_count": null,
            "_view_module": "@jupyter-widgets/base",
            "_view_module_version": "1.2.0",
            "_view_name": "StyleView",
            "description_width": ""
          }
        },
        "a358744475eb41d39cd542cebd4e837a": {
          "model_module": "@jupyter-widgets/base",
          "model_name": "LayoutModel",
          "model_module_version": "1.2.0",
          "state": {
            "_model_module": "@jupyter-widgets/base",
            "_model_module_version": "1.2.0",
            "_model_name": "LayoutModel",
            "_view_count": null,
            "_view_module": "@jupyter-widgets/base",
            "_view_module_version": "1.2.0",
            "_view_name": "LayoutView",
            "align_content": null,
            "align_items": null,
            "align_self": null,
            "border": null,
            "bottom": null,
            "display": null,
            "flex": null,
            "flex_flow": null,
            "grid_area": null,
            "grid_auto_columns": null,
            "grid_auto_flow": null,
            "grid_auto_rows": null,
            "grid_column": null,
            "grid_gap": null,
            "grid_row": null,
            "grid_template_areas": null,
            "grid_template_columns": null,
            "grid_template_rows": null,
            "height": null,
            "justify_content": null,
            "justify_items": null,
            "left": null,
            "margin": null,
            "max_height": null,
            "max_width": null,
            "min_height": null,
            "min_width": null,
            "object_fit": null,
            "object_position": null,
            "order": null,
            "overflow": null,
            "overflow_x": null,
            "overflow_y": null,
            "padding": null,
            "right": null,
            "top": null,
            "visibility": null,
            "width": null
          }
        },
        "c1c7b7b603a54708bedc8041d593c08d": {
          "model_module": "@jupyter-widgets/controls",
          "model_name": "ButtonStyleModel",
          "model_module_version": "1.5.0",
          "state": {
            "_model_module": "@jupyter-widgets/controls",
            "_model_module_version": "1.5.0",
            "_model_name": "ButtonStyleModel",
            "_view_count": null,
            "_view_module": "@jupyter-widgets/base",
            "_view_module_version": "1.2.0",
            "_view_name": "StyleView",
            "button_color": null,
            "font_weight": ""
          }
        },
        "73607fa422094e409ff7c6604f0670b6": {
          "model_module": "@jupyter-widgets/base",
          "model_name": "LayoutModel",
          "model_module_version": "1.2.0",
          "state": {
            "_model_module": "@jupyter-widgets/base",
            "_model_module_version": "1.2.0",
            "_model_name": "LayoutModel",
            "_view_count": null,
            "_view_module": "@jupyter-widgets/base",
            "_view_module_version": "1.2.0",
            "_view_name": "LayoutView",
            "align_content": null,
            "align_items": null,
            "align_self": null,
            "border": null,
            "bottom": null,
            "display": null,
            "flex": null,
            "flex_flow": null,
            "grid_area": null,
            "grid_auto_columns": null,
            "grid_auto_flow": null,
            "grid_auto_rows": null,
            "grid_column": null,
            "grid_gap": null,
            "grid_row": null,
            "grid_template_areas": null,
            "grid_template_columns": null,
            "grid_template_rows": null,
            "height": null,
            "justify_content": null,
            "justify_items": null,
            "left": null,
            "margin": null,
            "max_height": null,
            "max_width": null,
            "min_height": null,
            "min_width": null,
            "object_fit": null,
            "object_position": null,
            "order": null,
            "overflow": null,
            "overflow_x": null,
            "overflow_y": null,
            "padding": null,
            "right": null,
            "top": null,
            "visibility": null,
            "width": null
          }
        },
        "bca51753009f450896ef4264743e53c2": {
          "model_module": "@jupyter-widgets/controls",
          "model_name": "DescriptionStyleModel",
          "model_module_version": "1.5.0",
          "state": {
            "_model_module": "@jupyter-widgets/controls",
            "_model_module_version": "1.5.0",
            "_model_name": "DescriptionStyleModel",
            "_view_count": null,
            "_view_module": "@jupyter-widgets/base",
            "_view_module_version": "1.2.0",
            "_view_name": "StyleView",
            "description_width": ""
          }
        },
        "2cc39d60e2b04482b47ccda66e7a4824": {
          "model_module": "@jupyter-widgets/controls",
          "model_name": "LabelModel",
          "model_module_version": "1.5.0",
          "state": {
            "_dom_classes": [],
            "_model_module": "@jupyter-widgets/controls",
            "_model_module_version": "1.5.0",
            "_model_name": "LabelModel",
            "_view_count": null,
            "_view_module": "@jupyter-widgets/controls",
            "_view_module_version": "1.5.0",
            "_view_name": "LabelView",
            "description": "",
            "description_tooltip": null,
            "layout": "IPY_MODEL_7cedd073bf034cffa177daedbe702abc",
            "placeholder": "​",
            "style": "IPY_MODEL_f856bd5c65c74958a08daa6b64f63ec1",
            "value": "Connecting..."
          }
        },
        "7cedd073bf034cffa177daedbe702abc": {
          "model_module": "@jupyter-widgets/base",
          "model_name": "LayoutModel",
          "model_module_version": "1.2.0",
          "state": {
            "_model_module": "@jupyter-widgets/base",
            "_model_module_version": "1.2.0",
            "_model_name": "LayoutModel",
            "_view_count": null,
            "_view_module": "@jupyter-widgets/base",
            "_view_module_version": "1.2.0",
            "_view_name": "LayoutView",
            "align_content": null,
            "align_items": null,
            "align_self": null,
            "border": null,
            "bottom": null,
            "display": null,
            "flex": null,
            "flex_flow": null,
            "grid_area": null,
            "grid_auto_columns": null,
            "grid_auto_flow": null,
            "grid_auto_rows": null,
            "grid_column": null,
            "grid_gap": null,
            "grid_row": null,
            "grid_template_areas": null,
            "grid_template_columns": null,
            "grid_template_rows": null,
            "height": null,
            "justify_content": null,
            "justify_items": null,
            "left": null,
            "margin": null,
            "max_height": null,
            "max_width": null,
            "min_height": null,
            "min_width": null,
            "object_fit": null,
            "object_position": null,
            "order": null,
            "overflow": null,
            "overflow_x": null,
            "overflow_y": null,
            "padding": null,
            "right": null,
            "top": null,
            "visibility": null,
            "width": null
          }
        },
        "f856bd5c65c74958a08daa6b64f63ec1": {
          "model_module": "@jupyter-widgets/controls",
          "model_name": "DescriptionStyleModel",
          "model_module_version": "1.5.0",
          "state": {
            "_model_module": "@jupyter-widgets/controls",
            "_model_module_version": "1.5.0",
            "_model_name": "DescriptionStyleModel",
            "_view_count": null,
            "_view_module": "@jupyter-widgets/base",
            "_view_module_version": "1.2.0",
            "_view_name": "StyleView",
            "description_width": ""
          }
        },
        "25d1af0010bf436e9df16a54d15f4d70": {
          "model_module": "@jupyter-widgets/controls",
          "model_name": "LabelModel",
          "model_module_version": "1.5.0",
          "state": {
            "_dom_classes": [],
            "_model_module": "@jupyter-widgets/controls",
            "_model_module_version": "1.5.0",
            "_model_name": "LabelModel",
            "_view_count": null,
            "_view_module": "@jupyter-widgets/controls",
            "_view_module_version": "1.5.0",
            "_view_name": "LabelView",
            "description": "",
            "description_tooltip": null,
            "layout": "IPY_MODEL_4b5d22e5ebb74b30b7c2814537c3ac20",
            "placeholder": "​",
            "style": "IPY_MODEL_7ddfde8fdcf441aa9ba21743779b1107",
            "value": "Token is valid (permission: write)."
          }
        },
        "9d6b4d9257904df08495ce83fe560eca": {
          "model_module": "@jupyter-widgets/controls",
          "model_name": "LabelModel",
          "model_module_version": "1.5.0",
          "state": {
            "_dom_classes": [],
            "_model_module": "@jupyter-widgets/controls",
            "_model_module_version": "1.5.0",
            "_model_name": "LabelModel",
            "_view_count": null,
            "_view_module": "@jupyter-widgets/controls",
            "_view_module_version": "1.5.0",
            "_view_name": "LabelView",
            "description": "",
            "description_tooltip": null,
            "layout": "IPY_MODEL_5eccd7c9d8b74f18bbc8202ef51d5e2d",
            "placeholder": "​",
            "style": "IPY_MODEL_39f7ac835eb94e3f98056635473d628c",
            "value": "Your token has been saved in your configured git credential helpers (store)."
          }
        },
        "985f4e2b7c294d1f8ab86c359a727ada": {
          "model_module": "@jupyter-widgets/controls",
          "model_name": "LabelModel",
          "model_module_version": "1.5.0",
          "state": {
            "_dom_classes": [],
            "_model_module": "@jupyter-widgets/controls",
            "_model_module_version": "1.5.0",
            "_model_name": "LabelModel",
            "_view_count": null,
            "_view_module": "@jupyter-widgets/controls",
            "_view_module_version": "1.5.0",
            "_view_name": "LabelView",
            "description": "",
            "description_tooltip": null,
            "layout": "IPY_MODEL_0d44097c733f4aebb36b4d9f35157d81",
            "placeholder": "​",
            "style": "IPY_MODEL_4ad00c5f5d0941f0bd04e503cc98829e",
            "value": "Your token has been saved to /root/.cache/huggingface/token"
          }
        },
        "9fde286fc78c4e5fa5eac3908ee997d0": {
          "model_module": "@jupyter-widgets/controls",
          "model_name": "LabelModel",
          "model_module_version": "1.5.0",
          "state": {
            "_dom_classes": [],
            "_model_module": "@jupyter-widgets/controls",
            "_model_module_version": "1.5.0",
            "_model_name": "LabelModel",
            "_view_count": null,
            "_view_module": "@jupyter-widgets/controls",
            "_view_module_version": "1.5.0",
            "_view_name": "LabelView",
            "description": "",
            "description_tooltip": null,
            "layout": "IPY_MODEL_ee4d40748c124714af984a176ea73153",
            "placeholder": "​",
            "style": "IPY_MODEL_db2c38cb20fc495ead520c3f1dec11b0",
            "value": "Login successful"
          }
        },
        "4b5d22e5ebb74b30b7c2814537c3ac20": {
          "model_module": "@jupyter-widgets/base",
          "model_name": "LayoutModel",
          "model_module_version": "1.2.0",
          "state": {
            "_model_module": "@jupyter-widgets/base",
            "_model_module_version": "1.2.0",
            "_model_name": "LayoutModel",
            "_view_count": null,
            "_view_module": "@jupyter-widgets/base",
            "_view_module_version": "1.2.0",
            "_view_name": "LayoutView",
            "align_content": null,
            "align_items": null,
            "align_self": null,
            "border": null,
            "bottom": null,
            "display": null,
            "flex": null,
            "flex_flow": null,
            "grid_area": null,
            "grid_auto_columns": null,
            "grid_auto_flow": null,
            "grid_auto_rows": null,
            "grid_column": null,
            "grid_gap": null,
            "grid_row": null,
            "grid_template_areas": null,
            "grid_template_columns": null,
            "grid_template_rows": null,
            "height": null,
            "justify_content": null,
            "justify_items": null,
            "left": null,
            "margin": null,
            "max_height": null,
            "max_width": null,
            "min_height": null,
            "min_width": null,
            "object_fit": null,
            "object_position": null,
            "order": null,
            "overflow": null,
            "overflow_x": null,
            "overflow_y": null,
            "padding": null,
            "right": null,
            "top": null,
            "visibility": null,
            "width": null
          }
        },
        "7ddfde8fdcf441aa9ba21743779b1107": {
          "model_module": "@jupyter-widgets/controls",
          "model_name": "DescriptionStyleModel",
          "model_module_version": "1.5.0",
          "state": {
            "_model_module": "@jupyter-widgets/controls",
            "_model_module_version": "1.5.0",
            "_model_name": "DescriptionStyleModel",
            "_view_count": null,
            "_view_module": "@jupyter-widgets/base",
            "_view_module_version": "1.2.0",
            "_view_name": "StyleView",
            "description_width": ""
          }
        },
        "5eccd7c9d8b74f18bbc8202ef51d5e2d": {
          "model_module": "@jupyter-widgets/base",
          "model_name": "LayoutModel",
          "model_module_version": "1.2.0",
          "state": {
            "_model_module": "@jupyter-widgets/base",
            "_model_module_version": "1.2.0",
            "_model_name": "LayoutModel",
            "_view_count": null,
            "_view_module": "@jupyter-widgets/base",
            "_view_module_version": "1.2.0",
            "_view_name": "LayoutView",
            "align_content": null,
            "align_items": null,
            "align_self": null,
            "border": null,
            "bottom": null,
            "display": null,
            "flex": null,
            "flex_flow": null,
            "grid_area": null,
            "grid_auto_columns": null,
            "grid_auto_flow": null,
            "grid_auto_rows": null,
            "grid_column": null,
            "grid_gap": null,
            "grid_row": null,
            "grid_template_areas": null,
            "grid_template_columns": null,
            "grid_template_rows": null,
            "height": null,
            "justify_content": null,
            "justify_items": null,
            "left": null,
            "margin": null,
            "max_height": null,
            "max_width": null,
            "min_height": null,
            "min_width": null,
            "object_fit": null,
            "object_position": null,
            "order": null,
            "overflow": null,
            "overflow_x": null,
            "overflow_y": null,
            "padding": null,
            "right": null,
            "top": null,
            "visibility": null,
            "width": null
          }
        },
        "39f7ac835eb94e3f98056635473d628c": {
          "model_module": "@jupyter-widgets/controls",
          "model_name": "DescriptionStyleModel",
          "model_module_version": "1.5.0",
          "state": {
            "_model_module": "@jupyter-widgets/controls",
            "_model_module_version": "1.5.0",
            "_model_name": "DescriptionStyleModel",
            "_view_count": null,
            "_view_module": "@jupyter-widgets/base",
            "_view_module_version": "1.2.0",
            "_view_name": "StyleView",
            "description_width": ""
          }
        },
        "0d44097c733f4aebb36b4d9f35157d81": {
          "model_module": "@jupyter-widgets/base",
          "model_name": "LayoutModel",
          "model_module_version": "1.2.0",
          "state": {
            "_model_module": "@jupyter-widgets/base",
            "_model_module_version": "1.2.0",
            "_model_name": "LayoutModel",
            "_view_count": null,
            "_view_module": "@jupyter-widgets/base",
            "_view_module_version": "1.2.0",
            "_view_name": "LayoutView",
            "align_content": null,
            "align_items": null,
            "align_self": null,
            "border": null,
            "bottom": null,
            "display": null,
            "flex": null,
            "flex_flow": null,
            "grid_area": null,
            "grid_auto_columns": null,
            "grid_auto_flow": null,
            "grid_auto_rows": null,
            "grid_column": null,
            "grid_gap": null,
            "grid_row": null,
            "grid_template_areas": null,
            "grid_template_columns": null,
            "grid_template_rows": null,
            "height": null,
            "justify_content": null,
            "justify_items": null,
            "left": null,
            "margin": null,
            "max_height": null,
            "max_width": null,
            "min_height": null,
            "min_width": null,
            "object_fit": null,
            "object_position": null,
            "order": null,
            "overflow": null,
            "overflow_x": null,
            "overflow_y": null,
            "padding": null,
            "right": null,
            "top": null,
            "visibility": null,
            "width": null
          }
        },
        "4ad00c5f5d0941f0bd04e503cc98829e": {
          "model_module": "@jupyter-widgets/controls",
          "model_name": "DescriptionStyleModel",
          "model_module_version": "1.5.0",
          "state": {
            "_model_module": "@jupyter-widgets/controls",
            "_model_module_version": "1.5.0",
            "_model_name": "DescriptionStyleModel",
            "_view_count": null,
            "_view_module": "@jupyter-widgets/base",
            "_view_module_version": "1.2.0",
            "_view_name": "StyleView",
            "description_width": ""
          }
        },
        "ee4d40748c124714af984a176ea73153": {
          "model_module": "@jupyter-widgets/base",
          "model_name": "LayoutModel",
          "model_module_version": "1.2.0",
          "state": {
            "_model_module": "@jupyter-widgets/base",
            "_model_module_version": "1.2.0",
            "_model_name": "LayoutModel",
            "_view_count": null,
            "_view_module": "@jupyter-widgets/base",
            "_view_module_version": "1.2.0",
            "_view_name": "LayoutView",
            "align_content": null,
            "align_items": null,
            "align_self": null,
            "border": null,
            "bottom": null,
            "display": null,
            "flex": null,
            "flex_flow": null,
            "grid_area": null,
            "grid_auto_columns": null,
            "grid_auto_flow": null,
            "grid_auto_rows": null,
            "grid_column": null,
            "grid_gap": null,
            "grid_row": null,
            "grid_template_areas": null,
            "grid_template_columns": null,
            "grid_template_rows": null,
            "height": null,
            "justify_content": null,
            "justify_items": null,
            "left": null,
            "margin": null,
            "max_height": null,
            "max_width": null,
            "min_height": null,
            "min_width": null,
            "object_fit": null,
            "object_position": null,
            "order": null,
            "overflow": null,
            "overflow_x": null,
            "overflow_y": null,
            "padding": null,
            "right": null,
            "top": null,
            "visibility": null,
            "width": null
          }
        },
        "db2c38cb20fc495ead520c3f1dec11b0": {
          "model_module": "@jupyter-widgets/controls",
          "model_name": "DescriptionStyleModel",
          "model_module_version": "1.5.0",
          "state": {
            "_model_module": "@jupyter-widgets/controls",
            "_model_module_version": "1.5.0",
            "_model_name": "DescriptionStyleModel",
            "_view_count": null,
            "_view_module": "@jupyter-widgets/base",
            "_view_module_version": "1.2.0",
            "_view_name": "StyleView",
            "description_width": ""
          }
        }
      }
    }
  },
  "nbformat": 4,
  "nbformat_minor": 0
}